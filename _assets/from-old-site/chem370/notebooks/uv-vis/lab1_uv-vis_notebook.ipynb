{
 "cells": [
  {
   "cell_type": "markdown",
   "metadata": {},
   "source": [
    "UV-vis Notebook Example\n",
    "======================\n",
    "\n",
    "Al Fischer  \n",
    "Janaury 02, 2020  "
   ]
  },
  {
   "cell_type": "markdown",
   "metadata": {},
   "source": [
    "Download a Template on [GitHub](https://github.com/alphonse/alphonse.github.io/raw/master/chem370/notebooks/uv-vis/lab1_uv-vis_template.ipynb):\n",
    "\n",
    "1.  Go to the link using Chrome or Firefox (not Safari or Internet Explorer/Edge).\n",
    "2.  Right click and choose Save As.\n",
    "1.  Make sure the name says `lab1_uv-vis_template.ipynb` and nothing else. If there is a .txt shown delete it.\n",
    "1.  Save the file to your UV-vis lab notebook folder.\n",
    "1.  Go to Jupyter Lab, browse for the file within Jupyter Lab, and double click it to open it.\n",
    "\n",
    "Alternatively, you may procure the template on a flash drive from NEON at `Chem370/notebooks/uv-vis/`."
   ]
  },
  {
   "cell_type": "markdown",
   "metadata": {},
   "source": [
    "# Introduction\n",
    "\n",
    "Insert your introduction here. \n",
    "\n",
    "Write a short paragraph about the purpose of the lab, the technique(s) you're using, the samples you're analyzing, and any additional background information you can think of that will help frame the purpose of the lab. At minimum you should include and overview (not detail) of:\n",
    "\n",
    "- What the sample is\n",
    "- The technique(s) you are using"
   ]
  },
  {
   "cell_type": "markdown",
   "metadata": {},
   "source": [
    "# Materials and Methods\n",
    "\n",
    "*Fill in all of the exact details necessary for you to repeat the study without any additional resources.*\n",
    "\n",
    "*Much of this section should be filled in during lab!*\n",
    "\n",
    "## Materials\n",
    "\n",
    "- A stock solution of **104.9 ppm quinine** (from quinine sulfate - Fisher Lot No. 563887) in 0.05 M sulfuric acid was used to create the standards.\n",
    "- A second solution of **103.6 ppm quinine** (from quinine sulfate - Sigma Batch No. 010K0895) in 0.05 M sulfuric acid was used to create the standards.\n",
    "- Double distilled sulfuric acid was used to create the 0.05 M sulfic acid solution.\n",
    "- All blanks were composed of 0.05 M sulfuric acid in ultrapure water.\n",
    "\n",
    "## Sample Preparation\n",
    "\n",
    "1. Store-bought tonic water was degassed by leaving the bottle open overnight.\n",
    "1. An aliquot of the tonic was placed undiluted in a 1-cm plastic cuvette for analysis using a plastic transfer pipette.\n",
    "\n",
    "## Standard & QC Preparation\n",
    "\n",
    "### Standards\n",
    "\n",
    "1. A 20 mL volumetric pipette was used to deliver 20.00 $\\pm$ 0.03 mL of the first stock solution to a 25 mL volumetric flask.\n",
    "1. The solution was brought to volume using 0.05 M sulfuric acid. This is the **High Standard**. (Total volume 25 $\\pm$ 0.06 mL)\n",
    "1. A 1:2.5 dilution was performed by using a 10 mL volumetric pipette was used to deliver 10.00 $\\pm$ 0.02 mL of the high standard into a 25 mL volumetric flask and brought to volume using 0.05 M sulfuric acid. This is the **Medium Standard**.\n",
    "1. A 1:2.5 dilution was performed by using a 10 mL volumetric pipette was used to deliver 10.00 $\\pm$ 0.02 mL of the medium standard into a 25 mL volumetric flask and brought to volume using 0.05 M sulfuric acid. This is the **Low Standard**.\n",
    "\n",
    "### Quality Control\n",
    "\n",
    "1. A QC was prepared by diluting 10.00 $\\pm$ 0.02 mL of the second stock solution into 50.00 $\\pm$ 0.05 mL 0.05 M sulfuric acid.\n",
    "\n",
    "**Standard and QC concentrations are shown below to following chunk.**"
   ]
  },
  {
   "cell_type": "code",
   "execution_count": 112,
   "metadata": {},
   "outputs": [],
   "source": [
    "###### Load function #################################################################\n",
    "## Leave the function alone \n",
    "function concentrations = serialDilution(stock, pipettes, flasks)\n",
    "    concentrations =[];\n",
    "    for i = 1:length(pipettes)\n",
    "        if i == 1\n",
    "            concentrations(i) = stock * pipettes(i)/flasks(i);  # calculate first dilution\n",
    "        else\n",
    "            concentrations(i) = concentrations(i-1) * pipettes(i)/flasks(i); # calculate all other dilutions\n",
    "        end\n",
    "    end\n",
    "    concentrations = flip(concentrations)'; # reverse the vector from lowest to highest and transpose to column vector\n",
    "end\n",
    "########################################################################################"
   ]
  },
  {
   "cell_type": "code",
   "execution_count": 113,
   "metadata": {},
   "outputs": [
    {
     "name": "stdout",
     "output_type": "stream",
     "text": [
      "Standard Concentrations (in ppm) = \n",
      "   13.43\n",
      "   33.57\n",
      "   83.92\n",
      "QC Concentration (in ppm) = \n",
      " 20.12\n"
     ]
    }
   ],
   "source": [
    "####### Use function - insert standard info here #######################################\n",
    "concentrations = serialDilution(104.9, [20 10 10], [25 25 25]); # conc in ppm, volume of pipettes in ml, vol of flasks in ml \n",
    "\n",
    "disp(\"Standard Concentrations (in ppm) = \");\n",
    "output_precision(4); # only display 4 significant digits\n",
    "disp(concentrations);\n",
    "\n",
    "######## Insert QC Info Here ############################################################\n",
    "qc_stock   = 100.6;  # units: ppm, insert concentration of the stock soln. used for QC\n",
    "qc_pipette = 10;     # units: ml\n",
    "qc_flask   = 50;     # units: ml (must be same length and units as 'qc_pipette')\n",
    "########################################################################################\n",
    "\n",
    "qc_conc    = qc_pipette / qc_flask * qc_stock;\n",
    "disp(\"QC Concentration (in ppm) = \");\n",
    "output_precision(4); # only display 4 significant digits\n",
    "disp(qc_conc);"
   ]
  },
  {
   "cell_type": "markdown",
   "metadata": {},
   "source": [
    "## Instrumentation\n",
    "\n",
    "Samples were analyzed with a Vernier SpectroVis in fluorescence mode.  Table 2 shows complete instrument parameters.\n",
    "\n",
    "*Students: Fill in the instrument settings table.  Look up the values on the Vernier website.*\n",
    "\n",
    "<center>\n",
    "Table 2: Instrument Settings\n",
    "</center>\n",
    "\n",
    "| Parameter                 | Value              |\n",
    "| ------------------------- | ------------------ |\n",
    "| Make & Model              | Vernier SpectroVis |\n",
    "| Source (fluorescence)     |                    |\n",
    "| Optical Resolution        |                    |\n",
    "| Wavelength Range          |                    |\n",
    "| Data Acquisition Software |                    |\n",
    "\n",
    "### Methods\n",
    "\n",
    "1. A Vernier SpectroVis was placed in fluorescence mode (405nm excitation).\n",
    "1. The instrument was calibrated using the blank solution and a plastic 1-cm cuvette.\n",
    "1. Each standard or unknown was transferred to the cuvette using a plastic transfer pipette.\n",
    "1. Standards were run from lowest concentration to highest concentration, and the cuvette was rinsed with deionized water between each sample/standard.  The blank, QC, and sample were run in triplicate by discarding the cuvette contents, rinsing the cuvette, and refilling with a new aliquote of sample."
   ]
  },
  {
   "cell_type": "markdown",
   "metadata": {},
   "source": [
    "# Results and Data Analysis\n",
    "\n",
    "## Pre-processing\n",
    "\n",
    "Data were saved in CSV files.  The columns alternate wavelength, intensity_1, wavelength, intensity_2, ..., and so on.\n",
    "\n",
    "> Note to students: you can view the full data file by double clicking it in the Jupyter file browser."
   ]
  },
  {
   "cell_type": "code",
   "execution_count": 114,
   "metadata": {},
   "outputs": [
    {
     "name": "stdout",
     "output_type": "stream",
     "text": [
      "ans =\n",
      "\n",
      " Columns 1 through 7:\n",
      "\n",
      "     0.0000     0.0000     0.0000     0.0000     0.0000     0.0000     0.0000\n",
      "   380.8000     0.0530   380.8000     0.0588   380.8000     0.0576   380.8000\n",
      "\n",
      " Columns 8 through 14:\n",
      "\n",
      "     0.0000     0.0000     0.0000     0.0000     0.0000     0.0000     0.0000\n",
      "     0.0552   380.8000     0.0589   380.8000     0.0546   380.8000     0.0316\n",
      "\n",
      " Columns 15 through 21:\n",
      "\n",
      "     0.0000     0.0000     0.0000     0.0000     0.0000     0.0000     0.0000\n",
      "   380.8000     0.0307   380.8000     0.0300   380.8000     0.0176   380.8000\n",
      "\n",
      " Columns 22 through 24:\n",
      "\n",
      "     0.0000     0.0000     0.0000\n",
      "     0.0180   380.8000     0.0149\n",
      "\n"
     ]
    }
   ],
   "source": [
    "#### Import the data\n",
    "X = csvread('data/20200102_tonic_fluorescence.csv'); ## import data\n",
    "X(1:2, :) ## print to screen to make sure data imported OK (optional)"
   ]
  },
  {
   "cell_type": "markdown",
   "metadata": {},
   "source": [
    "The data imported correctly, but could use some cleaning up. The first step will be to remove the duplicate wavelength columns."
   ]
  },
  {
   "cell_type": "code",
   "execution_count": 115,
   "metadata": {},
   "outputs": [
    {
     "name": "stdout",
     "output_type": "stream",
     "text": [
      "ans =\n",
      "\n",
      " Columns 1 through 8:\n",
      "\n",
      "   0.00000   0.00000   0.00000   0.00000   0.00000   0.00000   0.00000   0.00000\n",
      "   0.05305   0.05879   0.05765   0.05523   0.05893   0.05465   0.03160   0.03067\n",
      "\n",
      " Columns 9 through 12:\n",
      "\n",
      "   0.00000   0.00000   0.00000   0.00000\n",
      "   0.03005   0.01761   0.01805   0.01489\n",
      "\n"
     ]
    }
   ],
   "source": [
    "wavelengths = X(:, 1); ## extract wavelength column to it's own vector\n",
    "X = X(:, 2:2:end); ## extract even columns (intensity columns) and discard wavelength columns\n",
    "X(1:2, :) ## print to screen to make sure clean up worked as expected (optional)"
   ]
  },
  {
   "cell_type": "markdown",
   "metadata": {},
   "source": [
    "Looks better.  **The columns are:**\n",
    "\n",
    "1. Blank-1\n",
    "1. Blank-2\n",
    "1. Blank-3\n",
    "1. Low Std\n",
    "2. Med Std\n",
    "3. High Std\n",
    "4. QC-1\n",
    "5. QC-2\n",
    "6. QC-3\n",
    "7. Sample 1-1\n",
    "7. Sample 1-2\n",
    "7. Sample 1-3\n"
   ]
  },
  {
   "cell_type": "code",
   "execution_count": 116,
   "metadata": {},
   "outputs": [
    {
     "name": "stdout",
     "output_type": "stream",
     "text": [
      "Wavelength of maximum emission (in nm) = \n",
      "  461\n"
     ]
    },
    {
     "data": {
      "image/png": "[encoded data removed]",
      "text/plain": [
       "<IPython.core.display.Image object>"
      ]
     },
     "metadata": {},
     "output_type": "display_data"
    }
   ],
   "source": [
    "##### Plot the emission spectrum\n",
    "\n",
    "plot(wavelengths, X(:, 5), 'DisplayName', 'Medium Standard');\n",
    "xlabel('Wavelength (nm)');\n",
    "ylabel('Intensity (arbitrary)');\n",
    "xlim([380 700]); ylim([0 0.25]);\n",
    "hold on\n",
    "plot(wavelengths, X(:, 9), 'DisplayName', 'Tonic Water');\n",
    "legend();\n",
    "hold off\n",
    "\n",
    "##### find max emission wavelength #######################\n",
    "[max_values indices] = max(X(:, 5));\n",
    "lambda_max = wavelengths(indices);\n",
    "disp(\"Wavelength of maximum emission (in nm) = \");\n",
    "output_precision(0); # only display to nearest nm\n",
    "disp(lambda_max);"
   ]
  },
  {
   "cell_type": "markdown",
   "metadata": {},
   "source": [
    "The peak emission, $\\lambda_{e-max}$, for quinine occurs at 461 nm, so only this wavelength will be used for analysis.  The expected maximum wavelength is 450 nm; the difference might indicate a significant miscalibration of the spectrophotometer.  A wavelength standard will be needed to verify this."
   ]
  },
  {
   "cell_type": "code",
   "execution_count": 117,
   "metadata": {},
   "outputs": [
    {
     "name": "stdout",
     "output_type": "stream",
     "text": [
      "The intensities at the analytical wavelength are:\n",
      "intensity_values =\n",
      "\n",
      " Columns 1 through 11:\n",
      "\n",
      "   0.00   0.01   0.01   0.06   0.23   0.70   0.11   0.11   0.11   0.15   0.14\n",
      "\n",
      " Column 12:\n",
      "\n",
      "   0.14\n",
      "\n"
     ]
    }
   ],
   "source": [
    "disp(\"The intensities at the analytical wavelength are:\")\n",
    "intensity_values =  X(wavelengths == (lambda_max), :)"
   ]
  },
  {
   "cell_type": "code",
   "execution_count": 118,
   "metadata": {},
   "outputs": [],
   "source": [
    "##### Define function to calculate linear fit and R2 ###############################\n",
    "##### Leave this section alone\n",
    "\n",
    "function [fit_params, r2, fitline] = fitlm(x, y)\n",
    "    X = [ones(length(x), 1) x];\n",
    "    fit_params = (pinv(X'*X))*X'*y;\n",
    "    # watch this video to understand this code: https://www.youtube.com/watch?v=w2FKXOa0HGA\n",
    "    ss_tot = sum((y - mean(y)).^2);\n",
    "    ss_reg = sum(((X*fit_params) - mean(y)).^2);\n",
    "    r2 = ss_reg/ss_tot;\n",
    "    fitline = [x, X*fit_params];\n",
    "end\n",
    "#####################################################################################"
   ]
  },
  {
   "cell_type": "code",
   "execution_count": 119,
   "metadata": {},
   "outputs": [
    {
     "name": "stdout",
     "output_type": "stream",
     "text": [
      "Slope =\n",
      " 0.009120\n",
      "Intercept =\n",
      "-0.07149\n",
      "R2 =\n",
      " 0.9998\n"
     ]
    },
    {
     "data": {
      "image/png": "[encoded data removed]",
      "text/plain": [
       "<IPython.core.display.Image object>"
      ]
     },
     "metadata": {},
     "output_type": "display_data"
    }
   ],
   "source": [
    "standards = intensity_values(4:6) .- intensity_values(1); ## subtract blank reading\n",
    "\n",
    "##### Plot Data\n",
    "\n",
    "plot(concentrations', standards', '*', 'DisplayName', 'Experimental Data');\n",
    "xlabel('Concentration (ppm)');\n",
    "ylabel('Intensity (arbitrary)');\n",
    "\n",
    "##### Calculate linear model / cal curve\n",
    "[fit_params, r2, fitline] = fitlm(concentrations, standards');\n",
    "\n",
    "##### Plot cal curve\n",
    "hold on; % this keeps our previous plot of the training data visible\n",
    "plot(fitline(:, 1), fitline(:, 2), 'b--', 'DisplayName', 'Linear regression')\n",
    "legend('location', 'northwest')\n",
    "hold off % Don't put any more plots on this figure\n",
    "\n",
    "##### print values to screen\n",
    "output_precision(4); # only display to 4 sf\n",
    "disp(\"Slope =\")\n",
    "disp(fit_params(2))\n",
    "disp(\"Intercept =\")\n",
    "disp(fit_params(1))\n",
    "disp(\"R2 =\")\n",
    "disp(r2)"
   ]
  },
  {
   "cell_type": "markdown",
   "metadata": {},
   "source": [
    "### Determine Concentrations"
   ]
  },
  {
   "cell_type": "code",
   "execution_count": 120,
   "metadata": {},
   "outputs": [],
   "source": [
    "###### Calculate concentration of samples & QC\n",
    "\n",
    "samples_qc = intensity_values(7:12) .- mean(intensity_values(1:3)); ## subtract blank reading\n",
    "concs = (samples_qc - fit_params(1))/fit_params(2);"
   ]
  },
  {
   "cell_type": "code",
   "execution_count": 121,
   "metadata": {},
   "outputs": [
    {
     "name": "stdout",
     "output_type": "stream",
     "text": [
      "Avearge  [Quinine] in QC (in ppm) = \n",
      " 19.41\n",
      "Expected [Quinine] in QC (in ppm) = \n",
      " 20.12\n",
      "QC Difference in percent = \n",
      "-3.525\n",
      "QC PASS!\n"
     ]
    }
   ],
   "source": [
    "###### Calculate mean QC value\n",
    "mean_qc = mean(concs(1:3));\n",
    "sd_qc = std(concs(1:3));\n",
    "qc_percent_diff = (mean_qc - qc_conc)/qc_conc*100;\n",
    "\n",
    "disp(\"Avearge  [Quinine] in QC (in ppm) = \");\n",
    "disp(mean_qc);\n",
    "\n",
    "disp(\"Expected [Quinine] in QC (in ppm) = \");\n",
    "disp(qc_conc);\n",
    "\n",
    "disp(\"QC Difference in percent = \");\n",
    "disp(qc_percent_diff);\n",
    "\n",
    "if qc_percent_diff < 5\n",
    "    disp(\"QC PASS!\")\n",
    "else\n",
    "    disp(\"QC FAIL!\")\n",
    "end"
   ]
  },
  {
   "cell_type": "markdown",
   "metadata": {},
   "source": [
    "The **QC Passed at -3.525% difference**.\n",
    "\n",
    "Now, moving on to calculate sample concentrations."
   ]
  },
  {
   "cell_type": "code",
   "execution_count": 122,
   "metadata": {},
   "outputs": [
    {
     "name": "stdout",
     "output_type": "stream",
     "text": [
      "Avearge  [Quinine] in sample (in ppm) = \n",
      " 22.99\n",
      "SD [Quinine] in sample(in ppm) = \n",
      " 0.08494\n",
      "RSD [Quinine] in sample (in %) = \n",
      " 0.3694\n"
     ]
    }
   ],
   "source": [
    "###### Calculate mean sample values\n",
    "\n",
    "mean_samples = mean(concs(4:6));\n",
    "sd_samples = std(concs(4:6));\n",
    "\n",
    "disp(\"Avearge  [Quinine] in sample (in ppm) = \");\n",
    "disp(mean_samples);\n",
    "disp(\"SD [Quinine] in sample(in ppm) = \");\n",
    "disp(sd_samples);\n",
    "disp(\"RSD [Quinine] in sample (in %) = \");\n",
    "disp(sd_samples/mean_samples*100);"
   ]
  },
  {
   "cell_type": "markdown",
   "metadata": {},
   "source": [
    "## Determine Limits of Detection and Quantitation\n",
    "\n",
    "The limit of detection is defined as:\n",
    "\n",
    "$$\n",
    "LOD = \\frac{3\\sigma_{blank}}{m}\n",
    "$$\n",
    "\n",
    "and the limit of quantitation is defined as:\n",
    "\n",
    "$$\n",
    "LOQ = \\frac{10\\sigma_{blank}}{m}\n",
    "$$"
   ]
  },
  {
   "cell_type": "code",
   "execution_count": 123,
   "metadata": {},
   "outputs": [
    {
     "name": "stdout",
     "output_type": "stream",
     "text": [
      "Limits of Detection and Quantitation (in ppm) = \n",
      "LOD =  1.372\n",
      "LOQ =  4.573\n"
     ]
    }
   ],
   "source": [
    "mean_blank = mean(intensity_values(1:3));\n",
    "sd_blank   = std(intensity_values(1:3));\n",
    "\n",
    "disp(\"Limits of Detection and Quantitation (in ppm) = \")\n",
    "LOD = (3*sd_blank)/fit_params(2)\n",
    "LOQ = (10*sd_blank)/fit_params(2)"
   ]
  },
  {
   "cell_type": "markdown",
   "metadata": {},
   "source": [
    "# Conclusion\n",
    "\n",
    "Insert your conclusion here. You should state what you found and whether or not the results seem accurate. Be sure to include the percent composition of your sample in the conclusion. Also discuss the polarity the compounds relative to each other."
   ]
  },
  {
   "cell_type": "markdown",
   "metadata": {},
   "source": [
    "# References\n",
    "\n",
    "[1] Lawson-Wood, Kathryn, and Kieran Evans. “Determination of Quinine in Tonic Water Using Fluorescence Spectroscopy,” (Application Note: Fluorescence Spectroscopy) [Link](https://www.perkinelmer.com/lab-solutions/resources/docs/APP_Quinine_in_Tonic_Water_014133_01.pdf)\n"
   ]
  }
 ],
 "metadata": {
  "kernelspec": {
   "display_name": "Octave",
   "language": "octave",
   "name": "octave"
  },
  "language_info": {
   "file_extension": ".m",
   "help_links": [
    {
     "text": "GNU Octave",
     "url": "https://www.gnu.org/software/octave/support.html"
    },
    {
     "text": "Octave Kernel",
     "url": "https://github.com/Calysto/octave_kernel"
    },
    {
     "text": "MetaKernel Magics",
     "url": "https://metakernel.readthedocs.io/en/latest/source/README.html"
    }
   ],
   "mimetype": "text/x-octave",
   "name": "octave",
   "version": "5.1.0"
  }
 },
 "nbformat": 4,
 "nbformat_minor": 4
}
