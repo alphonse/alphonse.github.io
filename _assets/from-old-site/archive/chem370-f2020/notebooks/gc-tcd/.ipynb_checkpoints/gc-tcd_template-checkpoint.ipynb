{
 "cells": [
  {
   "cell_type": "markdown",
   "metadata": {},
   "source": [
    "Gow Mac Lab Template (Delete this line and insert your title)\n",
    "----------------------\n",
    "\n",
    "Name  \n",
    "Long Date"
   ]
  },
  {
   "cell_type": "markdown",
   "metadata": {},
   "source": [
    "# Introduction\n",
    "\n",
    "Insert your introduction here.  Write a short paragraph about the purpose of the lab, the technique(s) you're using, the samples you're analyzing, and any additional background information you can think of that will help frame the purpose of the lab.  At *minimum* you should include and *overview* (not detail) of:\n",
    "\n",
    "- What the sample is\n",
    "- The instrument you are using:\n",
    "    - The separation technique\n",
    "    - The detector type\n",
    "    - The polarity of the column.\n",
    "- The purpose of the analysis (what you hope the instrument/data will tell you)\n",
    "\n",
    "***Note: The answers to these questions should be worked into a written narrative with additional detail for full credit.  You should not just provide a list of answers to these questions!***"
   ]
  },
  {
   "cell_type": "markdown",
   "metadata": {},
   "source": [
    "# Materials and Methods\n",
    "\n",
    "Insert your materials and methods section here.  Provide *detailed* information about all samples and standards used (when applicable) and *detailed* information about the technique and instrument being used.  At minimum, you should include *detailed* information about:\n",
    "\n",
    "- The sample\n",
    "    - Where did it come from?\n",
    "    - What did you do to prepare it for analysis?\n",
    "    - How was the sample introduced into the instrument?\n",
    "    - How much sample did you use?\n",
    "- The instrument\n",
    "    - What is the technique being used?\n",
    "    - What is the make and model of the instrument being used?\n",
    "    - What are the specific parameters (column type, carrier gas, etc.) of the instrument used.\n",
    "    - Any other details you deem relevant/necessary to repeat the work exactly.\n",
    "    - You may use the blank instrument table below as a template to include (replace 'XXXXX' with the values you look up).\n",
    "    \n",
    "***Note: The answers to these questions should be worked into a written narrative with additional detail for full credit.  You should not just provide a list of answers to these questions!***\n",
    "\n",
    "***Note 2: Some of this may be prepared ahead of time, but some of it MUST BE COMPLETED IN LAB.  For example, if you are weighing quantities of a substance or dispensing exact volumes they need to go in this notebook.  This notebook should be an EXACT record of what you did in lab, just like a paper notebook!***\n",
    "\n",
    "***The column types are below.  Choose the correct one for the instrument you used.***  \n",
    "- ***Gow-Mac 150: 4' x 1/4\", 20% DC-200 on 80/100 Chromosorp P (Gow-Mac)***  \n",
    "- ***Gow-Mac 400: 8' x 1/8\", 20% DC-200 on 30/80 Chromosorp P (Gow-Mac)***"
   ]
  },
  {
   "cell_type": "markdown",
   "metadata": {},
   "source": [
    "Table 1: | GC Parameters  \n",
    "------------- | ----------- \n",
    "**Make and Model** | Gow-Mac XXXXX\n",
    "**Column Type** | XXXXX\n",
    "**Injector Temp (deg. C)** | XXXXX\n",
    "**Column Temp (deg. C)** | XXXXX\n",
    "**Detector Temp (deg. C)** | XXXXX\n",
    "**Detector Attenuation** | 1\n",
    "**Detector** | XXXXX\n",
    "**Carrier Gas** | Nitrogen\n",
    "**Carrier Flow Rate (ml/min)** | 50 ml/min\n",
    "**Data Acquisition (DAQ)** | Vernier Instrumentation Amplifier, $\\pm$20 mV range\n",
    "**Software** | Vernier Logger Lite \n"
   ]
  },
  {
   "cell_type": "markdown",
   "metadata": {},
   "source": [
    "# Results & Data Analysis"
   ]
  },
  {
   "cell_type": "markdown",
   "metadata": {},
   "source": [
    "## Define Functions (obtained from Chem 370 Lab Manual)\n",
    "\n",
    "This first section is used to define all functions that will be needed for data processing.  These functions were copy and pasted from the Chem 370 Lab Manual.\n",
    "\n",
    "For this analysis, the only function needed is `peakArea()` used to calculate the area under a curve."
   ]
  },
  {
   "cell_type": "code",
   "execution_count": 16,
   "metadata": {},
   "outputs": [],
   "source": [
    "#####   peakArea   #################################################################################\n",
    "\n",
    "##      returns area under curve (integrates peak) for 2-column matrix X from x1 to x2\n",
    "##      where X(:, 1) is x data and X(:, 2) is y data,\n",
    "##      x1 is the lower limit, and x2 is the upper limit of integration.\n",
    "##      Also plots result for inspection if p = true.\n",
    "##      Usage:\n",
    "##      peakArea([chromatogram(:, \"TIME COLUMN\"), chromatogram(:, \"Signal Column\")], 1.7, 2.05)\n",
    "## \n",
    "##      (c) 2020 Al Fischer for Chem 370 Lab CC-BY-SA\n",
    "#####################################################################################################\n",
    "\n",
    "function a = peakArea(C, x1, x2, p = true)\n",
    "    x = C((C(:,1) > x1 & C(:,1) < x2), 1);\n",
    "    y = C((C(:,1) > x1 & C(:,1) < x2), 2);\n",
    "    a = trapz(x, y);\n",
    "    if p == true\n",
    "        plot(C(:, 1), C(:, 2));\n",
    "        hold on\n",
    "        area(x,y);\n",
    "        xlabel(\"Time\");\n",
    "        ylabel(\"Signal (arbitrary units)\")\n",
    "        hold off\n",
    "        disp([\"Peak Area = \", num2str(a)])\n",
    "    end\n",
    "end"
   ]
  },
  {
   "cell_type": "markdown",
   "metadata": {},
   "source": [
    "## Import the Data and Pre-process\n",
    "\n",
    "***(add info about data here if needed...)***"
   ]
  },
  {
   "cell_type": "code",
   "execution_count": 6,
   "metadata": {},
   "outputs": [],
   "source": [
    "## import the data\n",
    "\n"
   ]
  },
  {
   "cell_type": "code",
   "execution_count": 4,
   "metadata": {},
   "outputs": [],
   "source": [
    "## correct baseline offset\n",
    "\n"
   ]
  },
  {
   "cell_type": "code",
   "execution_count": 5,
   "metadata": {},
   "outputs": [],
   "source": [
    "## calculate the peak area for first peak\n",
    "\n"
   ]
  },
  {
   "cell_type": "code",
   "execution_count": 3,
   "metadata": {},
   "outputs": [],
   "source": [
    "## calculate the peak area for second peak\n",
    "\n"
   ]
  },
  {
   "cell_type": "code",
   "execution_count": 4,
   "metadata": {},
   "outputs": [],
   "source": [
    "## Calculate Percent Composition\n",
    "\n"
   ]
  },
  {
   "cell_type": "markdown",
   "metadata": {},
   "source": [
    "***Add discussion of results here if necessary.***"
   ]
  },
  {
   "cell_type": "markdown",
   "metadata": {},
   "source": [
    "## Estimate S/N"
   ]
  },
  {
   "cell_type": "markdown",
   "metadata": {},
   "source": [
    "***Provide the definition of signal-to-noise ratio, i.e. the formula you are using to calculate it.***"
   ]
  },
  {
   "cell_type": "code",
   "execution_count": 7,
   "metadata": {},
   "outputs": [],
   "source": [
    "##### Determine H, the peak heights, and h, the noise\n",
    "\n"
   ]
  },
  {
   "cell_type": "code",
   "execution_count": 3,
   "metadata": {},
   "outputs": [],
   "source": [
    "##### Calculate S/N for each peak\n",
    "\n"
   ]
  },
  {
   "cell_type": "markdown",
   "metadata": {},
   "source": [
    "***Add discussion of results here if necessary.***"
   ]
  },
  {
   "cell_type": "markdown",
   "metadata": {},
   "source": [
    "# Conclusion\n",
    "\n",
    "Insert your conclusion here.  You should state what you found and whether or not the results seem accurate.  Be sure to include the percent composition of your sample in the conclusion.  Also discuss the polarity the compounds relative to each other."
   ]
  }
 ],
 "metadata": {
  "kernelspec": {
   "display_name": "Octave",
   "language": "octave",
   "name": "octave"
  },
  "language_info": {
   "file_extension": ".m",
   "help_links": [
    {
     "text": "GNU Octave",
     "url": "https://www.gnu.org/software/octave/support.html"
    },
    {
     "text": "Octave Kernel",
     "url": "https://github.com/Calysto/octave_kernel"
    },
    {
     "text": "MetaKernel Magics",
     "url": "https://metakernel.readthedocs.io/en/latest/source/README.html"
    }
   ],
   "mimetype": "text/x-octave",
   "name": "octave",
   "version": "5.1.0"
  }
 },
 "nbformat": 4,
 "nbformat_minor": 4
}
