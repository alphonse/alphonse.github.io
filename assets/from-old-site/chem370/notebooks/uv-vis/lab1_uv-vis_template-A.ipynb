{
 "cells": [
  {
   "cell_type": "markdown",
   "metadata": {},
   "source": [
    "UV-vis Notebook Example\n",
    "======================\n",
    "\n",
    "Al Fischer  \n",
    "Janaury 02, 2020  "
   ]
  },
  {
   "cell_type": "markdown",
   "metadata": {},
   "source": [
    "# Introduction\n",
    "\n",
    "Insert your introduction here. You should write your intro *before* lab.\n",
    "\n",
    "Write a short paragraph about the purpose of the lab, the technique(s) you're using, the samples you're analyzing, and any additional background information you can think of that will help frame the purpose of the lab. At minimum you should include and overview (not detail) of:\n",
    "\n",
    "- What the sample/analyte is\n",
    "- The technique(s) you are using"
   ]
  },
  {
   "cell_type": "markdown",
   "metadata": {},
   "source": [
    "# Materials and Methods\n",
    "\n",
    "*Fill in all of the exact details necessary for you to repeat the study without any additional resources.*\n",
    "\n",
    "Much of this section should be filled in *during* lab!\n",
    "\n",
    "## Materials\n",
    "\n",
    "- Insert chemicals/materials here.\n",
    "\n",
    "## Sample Preparation\n",
    "\n",
    "1. Insert step-by-step procedures here.\n",
    "1. Next step...\n",
    "\n",
    "## Standard & QC Preparation\n",
    "\n",
    "### Standards"
   ]
  },
  {
   "cell_type": "code",
   "execution_count": 1,
   "metadata": {},
   "outputs": [],
   "source": [
    "###### Use this function to calculate stand concentrations. ############################\n",
    "## Leave the function alone \n",
    "function concentrations = serialDilution(stock, pipettes, flasks)\n",
    "    concentrations =[];\n",
    "    for i = 1:length(pipettes)\n",
    "        if i == 1\n",
    "            concentrations(i) = stock * pipettes(i)/flasks(i);  # calculate first dilution\n",
    "        else\n",
    "            concentrations(i) = concentrations(i-1) * pipettes(i)/flasks(i); # calculate all other dilutions\n",
    "        end\n",
    "    end\n",
    "    concentrations = flip(concentrations)'; # reverse the vector from lowest to highest and transpose to column vector\n",
    "end\n",
    "########################################################################################"
   ]
  },
  {
   "cell_type": "code",
   "execution_count": null,
   "metadata": {},
   "outputs": [],
   "source": [
    "####### Insert standard info here ######################################################\n",
    "## insert correct values as arguments to serialDilution() below\n",
    "concentrations = serialDilution(stock, pipettes, flasks); # conc in ppm, volume of pipettes in ml, vol of flasks in ml \n",
    "\n",
    "disp(\"Standard Concentrations (in ppm) = \");\n",
    "output_precision(4); # display 4 sig figs - change if needed\n",
    "disp(concentrations);"
   ]
  },
  {
   "cell_type": "markdown",
   "metadata": {},
   "source": [
    "### Quality Control"
   ]
  },
  {
   "cell_type": "code",
   "execution_count": null,
   "metadata": {},
   "outputs": [],
   "source": [
    "######## Insert QC Info Here ############################################################\n",
    "qc_stock   = 100.6;  # units: ppm, insert concentration of the stock soln. used for QC\n",
    "qc_pipette = 10;     # units: ml\n",
    "qc_flask   = 50;     # units: ml (must be same length and units as 'qc_pipette')\n",
    "########################################################################################\n",
    "\n",
    "qc_conc    = qc_pipette / qc_flask * qc_stock;\n",
    "disp(\"QC Concentration (in ppm) = \");\n",
    "output_precision(4);  # display 4 sig figs - change if needed\n",
    "disp(qc_conc);"
   ]
  },
  {
   "cell_type": "markdown",
   "metadata": {},
   "source": [
    "## Instrumentation\n",
    "\n",
    "*Students: Fill in the instrument settings table.  Look up the values on the Vernier website.*\n",
    "\n",
    "<center>\n",
    "Table 2: Instrument Settings\n",
    "</center>\n",
    "\n",
    "| Parameter                 | Value              |\n",
    "| ------------------------- | ------------------ |\n",
    "| Make & Model              | Vernier SpectroVis |\n",
    "| Source (fluorescence)     |                    |\n",
    "| Optical Resolution        |                    |\n",
    "| Wavelength Range          |                    |\n",
    "| Data Acquisition Software |                    |\n",
    "\n",
    "### Methods"
   ]
  },
  {
   "cell_type": "markdown",
   "metadata": {},
   "source": [
    "# Results and Data Analysis\n",
    "\n",
    "*The code below should help you get started with the data analysis.  You will need to add explanations and interpretations between many of the chunks to clarify the process.*"
   ]
  },
  {
   "cell_type": "code",
   "execution_count": null,
   "metadata": {},
   "outputs": [],
   "source": [
    "#### Import the data\n",
    "## Input your datafile name (and/or path) in the csvread() function below\n",
    "X = csvread('data/your-datafile-name.csv'); ## import data\n",
    "X(1:2, :) ## print to screen to make sure data imported OK (optional)"
   ]
  },
  {
   "cell_type": "code",
   "execution_count": null,
   "metadata": {},
   "outputs": [],
   "source": [
    "wavelengths = X(:, 1); ## extract wavelength column to it's own vector\n",
    "X = X(:, 2:2:end); ## extract even columns (intensity columns) and discard wavelength columns\n",
    "X(1:2, :) ## print to screen to make sure clean up worked as expected (optional)"
   ]
  },
  {
   "cell_type": "code",
   "execution_count": null,
   "metadata": {},
   "outputs": [],
   "source": [
    "##### Plot the emission spectrum\n",
    "\n",
    "plot(wavelengths, X(:, 5), 'DisplayName', 'Name of Sample');\n",
    "xlabel('Wavelength (nm)');\n",
    "ylabel('Intensity (arbitrary)');\n",
    "xlim([380 700]); ylim([0 0.25]);\n",
    "hold on\n",
    "plot(wavelengths, X(:, 9), 'DisplayName', 'Name of Sample');\n",
    "legend();\n",
    "hold off"
   ]
  },
  {
   "cell_type": "code",
   "execution_count": null,
   "metadata": {},
   "outputs": [],
   "source": [
    "##### find max emission wavelength #######################\n",
    "[max_values indices] = max(X(:, 5));\n",
    "lambda_max = wavelengths(indices);\n",
    "disp(\"Wavelength of maximum emission (in nm) = \");\n",
    "output_precision(0); # only display to nearest nm\n",
    "disp(lambda_max);"
   ]
  },
  {
   "cell_type": "code",
   "execution_count": null,
   "metadata": {},
   "outputs": [],
   "source": [
    "disp(\"The intensities at the analytical wavelength are:\")\n",
    "intensity_values =  X(wavelengths == (lambda_max), :)"
   ]
  },
  {
   "cell_type": "code",
   "execution_count": 118,
   "metadata": {},
   "outputs": [],
   "source": [
    "##### Define function to calculate linear fit and R2 ###############################\n",
    "##### Leave this section alone\n",
    "\n",
    "function [fit_params, r2, fitline] = fitlm(x, y)\n",
    "    X = [ones(length(x), 1) x];\n",
    "    fit_params = (pinv(X'*X))*X'*y;\n",
    "    # watch this video to understand this code: https://www.youtube.com/watch?v=w2FKXOa0HGA\n",
    "    ss_tot = sum((y - mean(y)).^2);\n",
    "    ss_reg = sum(((X*fit_params) - mean(y)).^2);\n",
    "    r2 = ss_reg/ss_tot;\n",
    "    fitline = [x, X*fit_params];\n",
    "end\n",
    "#####################################################################################"
   ]
  },
  {
   "cell_type": "code",
   "execution_count": null,
   "metadata": {},
   "outputs": [],
   "source": [
    "standards = intensity_values(4:6) .- intensity_values(1); ## subtract blank reading \n",
    "### (Choose the correct columns above by number)\n",
    "\n",
    "##### Plot Data\n",
    "\n",
    "plot(concentrations', standards', '*', 'DisplayName', 'Experimental Data');\n",
    "xlabel('Concentration (ppm)');\n",
    "ylabel('Intensity (arbitrary)');\n",
    "\n",
    "##### Calculate linear model / cal curve\n",
    "[fit_params, r2, fitline] = fitlm(concentrations, standards');\n",
    "\n",
    "##### Plot cal curve\n",
    "hold on; # this keeps our previous plot of the training data visible\n",
    "plot(fitline(:, 1), fitline(:, 2), 'b--', 'DisplayName', 'Linear regression')\n",
    "legend('location', 'northwest')\n",
    "hold off # Don't put any more plots on this figure\n",
    "\n",
    "##### print values to screen\n",
    "output_precision(4); # only display to 4 sf\n",
    "disp(\"Slope =\")\n",
    "disp(fit_params(2))\n",
    "disp(\"Intercept =\")\n",
    "disp(fit_params(1))\n",
    "disp(\"R2 =\")\n",
    "disp(r2)"
   ]
  },
  {
   "cell_type": "markdown",
   "metadata": {},
   "source": [
    "### Determine Concentrations"
   ]
  },
  {
   "cell_type": "code",
   "execution_count": 120,
   "metadata": {},
   "outputs": [],
   "source": [
    "###### Calculate concentration of samples & QC\n",
    "\n",
    "samples_qc = intensity_values(7:12) .- intensity_values(1); ## Subtract blank - Choose the correct columns here by number\n",
    "concs = ### insert code here to calculate concentrations"
   ]
  },
  {
   "cell_type": "code",
   "execution_count": null,
   "metadata": {},
   "outputs": [],
   "source": [
    "###### Calculate mean QC value\n",
    "mean_qc = mean(concs(1:3));   ## Choose correct QC columns\n",
    "sd_qc   = std(concs(1:3));    ## Choose correct QC columns\n",
    "qc_percent_diff = ## Insert code here to calculate percent difference\n",
    "\n",
    "output_precision(1);  # display 1 decimal - change if needed\n",
    "\n",
    "disp(\"Avearge  [Quinine] in QC (in ppm) = \");\n",
    "disp(mean_qc);\n",
    "\n",
    "disp(\"Expected [Quinine] in QC (in ppm) = \");\n",
    "disp(qc_conc);\n",
    "\n",
    "disp(\"QC Difference in percent = \");\n",
    "disp(qc_percent_diff);"
   ]
  },
  {
   "cell_type": "code",
   "execution_count": null,
   "metadata": {},
   "outputs": [],
   "source": [
    "###### Calculate mean sample values\n",
    "\n",
    "mean_samples = ## Calculate sample mean here\n",
    "sd_samples = ## Calculate SD here\n",
    "\n",
    "# Display average sample conc.\n",
    "disp(\"Avearge  [Quinine] in sample (in ppm) = \");\n",
    "disp(mean_samples);\n",
    "\n",
    "## Display sample SD.\n",
    "##### Fill in code here\n",
    "\n",
    "## Display sample RSD\n",
    "##### Fill in code here"
   ]
  },
  {
   "cell_type": "markdown",
   "metadata": {},
   "source": [
    "## Limits of Detection and Quantitation\n"
   ]
  },
  {
   "cell_type": "code",
   "execution_count": 130,
   "metadata": {},
   "outputs": [],
   "source": [
    "mean_blank = mean(intensity_values(1:3)); ## Choose correct blank columns\n",
    "sd_blank   = std(intensity_values(1:3));  ## Choose correct blank columns\n",
    "\n",
    "## Do calculations here..."
   ]
  },
  {
   "cell_type": "markdown",
   "metadata": {},
   "source": [
    "# Conclusion\n",
    "\n",
    "Insert your conclusion here. You should state what you found and whether or not the results seem accurate. Be sure to include the percent composition of your sample in the conclusion. Also discuss the polarity the compounds relative to each other."
   ]
  },
  {
   "cell_type": "markdown",
   "metadata": {},
   "source": [
    "# References\n",
    "\n",
    "[1] Insert references here in ACS format.\n"
   ]
  }
 ],
 "metadata": {
  "kernelspec": {
   "display_name": "Octave",
   "language": "octave",
   "name": "octave"
  },
  "language_info": {
   "file_extension": ".m",
   "help_links": [
    {
     "text": "GNU Octave",
     "url": "https://www.gnu.org/software/octave/support.html"
    },
    {
     "text": "Octave Kernel",
     "url": "https://github.com/Calysto/octave_kernel"
    },
    {
     "text": "MetaKernel Magics",
     "url": "https://metakernel.readthedocs.io/en/latest/source/README.html"
    }
   ],
   "mimetype": "text/x-octave",
   "name": "octave",
   "version": "5.1.0"
  }
 },
 "nbformat": 4,
 "nbformat_minor": 4
}
