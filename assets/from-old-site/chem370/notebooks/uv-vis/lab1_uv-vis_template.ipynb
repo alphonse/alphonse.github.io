{
 "cells": [
  {
   "cell_type": "markdown",
   "metadata": {},
   "source": [
    "UV-vis Notebook Template\n",
    "======================\n",
    "\n",
    "Your Name  \n",
    "Janaury Day, Year  "
   ]
  },
  {
   "cell_type": "markdown",
   "metadata": {},
   "source": [
    "# Introduction\n",
    "\n",
    "***Insert your introduction here.***\n",
    "\n",
    "Your intro should usually be written *before* lab.\n",
    "\n",
    "Write a short paragraph about the purpose of the lab, the technique(s) you're using, the samples you're analyzing, and any additional background information you can think of that will help frame the purpose of the lab. At minimum you should include and overview (not detail) of:\n",
    "\n",
    "- What the sample/analyte is\n",
    "- The technique(s) you are using"
   ]
  },
  {
   "cell_type": "markdown",
   "metadata": {},
   "source": [
    "# Materials and Methods\n",
    "\n",
    "***Fill in all of the exact details necessary for you to repeat the study without any additional resources.***\n",
    "\n",
    "Much of this section should be filled in *during* lab!\n",
    "\n",
    "## Materials\n",
    "\n",
    "- Insert chemicals/materials here.\n",
    "\n",
    "## Sample Preparation\n",
    "\n",
    "1. Insert step-by-step procedures here.\n",
    "1. Next step...\n",
    "\n",
    "## Standard & QC Preparation\n",
    "\n",
    "### Standards"
   ]
  },
  {
   "cell_type": "markdown",
   "metadata": {},
   "source": [
    "***The following code chunk contains a function to calculate serial dilutions, which was copied directly from the Octave Cookbook in the Lab Manual (Appendix B).  Run it as-is and then you can call the function `serialDilution()` to do your calculations for you.***"
   ]
  },
  {
   "cell_type": "code",
   "execution_count": 1,
   "metadata": {},
   "outputs": [],
   "source": [
    "###### Use this function to calculate stand concentrations. ############################\n",
    "## Leave the function alone \n",
    "function concentrations = serialDilution(stock, pipettes, flasks)\n",
    "    concentrations =[];\n",
    "    for i = 1:length(pipettes)\n",
    "        if i == 1\n",
    "            concentrations(i) = stock * pipettes(i)/flasks(i);  # calculate first dilution\n",
    "        else\n",
    "            concentrations(i) = concentrations(i-1) * pipettes(i)/flasks(i); # calculate all other dilutions\n",
    "        end\n",
    "    end\n",
    "    concentrations = flip(concentrations)'; # reverse the vector from lowest to highest and transpose to column vector\n",
    "end\n",
    "########################################################################################"
   ]
  },
  {
   "cell_type": "markdown",
   "metadata": {},
   "source": [
    "### Quality Control"
   ]
  },
  {
   "cell_type": "markdown",
   "metadata": {},
   "source": [
    "## Instrumentation\n",
    "\n",
    "***Fill in the instrument settings table.  Look up the values on the Vernier website.***\n",
    "\n",
    "<center>\n",
    "Table 2: Instrument Settings\n",
    "</center>\n",
    "\n",
    "| Parameter                 | Value              |\n",
    "| ------------------------- | ------------------ |\n",
    "| Make & Model              | Vernier SpectroVis |\n",
    "| Source (fluorescence)     |                    |\n",
    "| Optical Resolution        |                    |\n",
    "| Wavelength Range          |                    |\n",
    "| Data Acquisition Software |                    |"
   ]
  },
  {
   "cell_type": "markdown",
   "metadata": {},
   "source": [
    "# Results and Data Analysis"
   ]
  },
  {
   "cell_type": "markdown",
   "metadata": {},
   "source": [
    "***Add code cells here to process data.  You should intersperse them with headings and text (i.e. Markdown cells) to explain what you're doing as you process the data.***\n",
    "\n",
    "Refer to the example on at alphonse.github.io/chem370/notebooks for more info."
   ]
  },
  {
   "cell_type": "markdown",
   "metadata": {},
   "source": [
    "***The following code chunk contains a function to calculate serial dilutions, which was copied directly from the Octave Cookbook in the Lab Manual (Appendix B).  Run it as-is and then you can call the function `[fit_params, r2, fitline] = fitlm(concentration_vector, standards_vector);` to perform a linear fit (like linest in Excel).***"
   ]
  },
  {
   "cell_type": "code",
   "execution_count": 118,
   "metadata": {},
   "outputs": [],
   "source": [
    "##### Define function to calculate linear fit and R2 ###############################\n",
    "##### Leave this section alone\n",
    "\n",
    "function [fit_params, r2, fitline] = fitlm(x, y)\n",
    "    X = [ones(length(x), 1) x];\n",
    "    fit_params = (pinv(X'*X))*X'*y;\n",
    "    # watch this video to understand this code: https://www.youtube.com/watch?v=w2FKXOa0HGA\n",
    "    ss_tot = sum((y - mean(y)).^2);\n",
    "    ss_reg = sum(((X*fit_params) - mean(y)).^2);\n",
    "    r2 = ss_reg/ss_tot;\n",
    "    fitline = [x, X*fit_params];\n",
    "end\n",
    "#####################################################################################"
   ]
  },
  {
   "cell_type": "markdown",
   "metadata": {},
   "source": [
    "## Limits of Detection and Quantitation\n",
    "\n",
    "***Calculate your LOD and LOQ here.***\n",
    "\n",
    "Note that you can add equations with $\\LaTeX$ functions, e.g.:\n",
    "\n",
    "$$\n",
    "LOD = \\frac{3\\sigma_{blank}}{m}\n",
    "$$\n",
    "\n",
    "For more on $\\LaTeX$ see: https://www.caam.rice.edu/~heinken/latex/symbols.pdf"
   ]
  },
  {
   "cell_type": "markdown",
   "metadata": {},
   "source": [
    "# Conclusion\n",
    "\n",
    "Insert your conclusion here. You should state what you found and whether or not the results seem accurate. Be sure to include the percent composition of your sample in the conclusion. Also discuss the polarity the compounds relative to each other."
   ]
  },
  {
   "cell_type": "markdown",
   "metadata": {},
   "source": [
    "# References\n",
    "\n",
    "[1] Insert references here in ACS format.\n"
   ]
  }
 ],
 "metadata": {
  "kernelspec": {
   "display_name": "Octave",
   "language": "octave",
   "name": "octave"
  },
  "language_info": {
   "file_extension": ".m",
   "help_links": [
    {
     "text": "GNU Octave",
     "url": "https://www.gnu.org/software/octave/support.html"
    },
    {
     "text": "Octave Kernel",
     "url": "https://github.com/Calysto/octave_kernel"
    },
    {
     "text": "MetaKernel Magics",
     "url": "https://metakernel.readthedocs.io/en/latest/source/README.html"
    }
   ],
   "mimetype": "text/x-octave",
   "name": "octave",
   "version": "5.1.0"
  }
 },
 "nbformat": 4,
 "nbformat_minor": 4
}
