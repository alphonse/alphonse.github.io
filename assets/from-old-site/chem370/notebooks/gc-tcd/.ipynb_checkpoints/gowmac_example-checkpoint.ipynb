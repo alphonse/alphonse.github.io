{
 "cells": [
  {
   "cell_type": "markdown",
   "metadata": {},
   "source": [
    "Analysis of an Unknown Mixture via Gas Chromatrography\n",
    "----------------------\n",
    "\n",
    "Al Fischer  \n",
    "January 2, 2020  \n",
    "\n",
    "**Download a Template on [GitHub](https://raw.githubusercontent.com/alphonse/alphonse.github.io/master/chem370/notebook-examples/gowmac/gowmac_template.ipynb):**  \n",
    "\n",
    "1. Go to the link **using Chrome or Firefox** (not Safari or Internet Explorer/Edge).  \n",
    "2. Right click and choose **Save As**.  \n",
    "3. Make sure the name says **gowmac_template.ipynb** and *nothing else*.  If there is a .txt shown delete it.  \n",
    "4. Save the file to the folder you are working from for this lab.  \n",
    "5. Go to Jupyter Lab, browse for the file within Jupyter Lab, and double click it to open it.  "
   ]
  },
  {
   "cell_type": "markdown",
   "metadata": {},
   "source": [
    "# Introduction\n",
    "\n",
    "Insert your introduction here.  Write a short paragraph about the purpose of the lab, the technique(s) you're using, the samples you're analyzing, and any additional background information you can think of that will help frame the purpose of the lab.  At *minimum* you should include and *overview* (not detail) of:\n",
    "\n",
    "- What the sample is\n",
    "- The instrument you are using:\n",
    "    - The separation technique\n",
    "    - The detector type\n",
    "    - The polarity of the column.\n",
    "- The purpose of the analysis (what you hope the instrument/data will tell you)\n",
    "\n",
    "***Note: The answers to these questions should be worked into a written narrative with additional detail for full credit.  You should not just provide a list of answers to these questions!***"
   ]
  },
  {
   "cell_type": "markdown",
   "metadata": {},
   "source": [
    "# Materials and Methods\n",
    "\n",
    "Insert your materials and methods section here.  Provide *detailed* information about all samples and standards used (when applicable) and *detailed* information about the technique and instrument being used.  At minimum, you should include *detailed* information about:\n",
    "\n",
    "- The sample\n",
    "    - Where did it come from?\n",
    "    - What did you do to prepare it for analysis?\n",
    "    - How was the sample introduced into the instrument?\n",
    "    - How much sample did you use?\n",
    "- The instrument\n",
    "    - What is the technique being used?\n",
    "    - What is the make and model of the instrument being used?\n",
    "    - What are the specific parameters (column type, carrier gas, etc.) of the instrument used.\n",
    "    - Any other details you deem relevant/necessary to repeat the work exactly.\n",
    "    - You may use the blank instrument table below as a template to include (replace 'XXXXX' with the values you look up).\n",
    "    \n",
    "***Note: The answers to these questions should be worked into a written narrative with additional detail for full credit.  You should not just provide a list of answers to these questions!***\n",
    "\n",
    "***Note 2: Some of this may be prepared ahead of time, but some of it MUST BE COMPLETED IN LAB.  For example, if you are weighing quantities of a substance or dispensing exact volumes they need to go in this notebook.  This notebook should be an EXACT record of what you did in lab, just like a paper notebook!***"
   ]
  },
  {
   "cell_type": "markdown",
   "metadata": {},
   "source": [
    "Table 1: | GC Parameters  \n",
    "------------- | ----------- \n",
    "**Make and Model** | Gow-Mac XXXXX\n",
    "**Column Type** | XXXXX\n",
    "**Injector Temp (deg. C)** | XXXXX\n",
    "**Column Temp (deg. C)** | XXXXX\n",
    "**Detector Temp (deg. C)** | XXXXX\n",
    "**Detector Attenuation** | 1\n",
    "**Detector** | XXXXX\n",
    "**Carrier Gas** | Nitrogen\n",
    "**Carrier Flow Rate (ml/min)** | 50 ml/min\n",
    "**Data Acquisition (DAQ)** | Vernier Instrumentation Amplifier, $\\pm$20 mV range\n",
    "**Software** | Vernier Logger Lite \n"
   ]
  },
  {
   "cell_type": "markdown",
   "metadata": {},
   "source": [
    "# Results & Data Analysis"
   ]
  },
  {
   "cell_type": "markdown",
   "metadata": {},
   "source": [
    "## Define Functions (obtained from Chem 370 Lab Manual)\n",
    "\n",
    "This first section is used to define all functions that will be needed for data processing.  These functions were copy and pasted from the Chem 370 Lab Manual.\n",
    "\n",
    "For this analysis, the only function needed is `peakArea()` used to calculate the area under a curve."
   ]
  },
  {
   "cell_type": "code",
   "execution_count": 1,
   "metadata": {},
   "outputs": [],
   "source": [
    "#####   peakArea   #################################################################################\n",
    "\n",
    "##      returns area under curve (integrates peak) for 2-column matrix X from x1 to x2\n",
    "##      where X(:, 1) is x data and X(:, 2) is y data,\n",
    "##      x1 is the lower limit, and x2 is the upper limit of integration.\n",
    "##      Also plots result for inspection if p = true.\n",
    "##      Usage:\n",
    "##      peakArea([chromatogram(:, \"TIME COLUMN\"), chromatogram(:, \"Signal Column\")], 1.7, 2.05)\n",
    "## \n",
    "##      (c) 2020 Al Fischer for Chem 370 Lab CC-BY-SA\n",
    "#####################################################################################################\n",
    "\n",
    "function a = peakArea(C, x1, x2, p = true)\n",
    "    x = C((C(:,1) > x1 & C(:,1) < x2), 1);\n",
    "    y = C((C(:,1) > x1 & C(:,1) < x2), 2);\n",
    "    a = trapz(x, y);\n",
    "    if p == true\n",
    "        plot(C(:, 1), C(:, 2));\n",
    "        hold on\n",
    "        area(x,y);\n",
    "        xlabel(\"Time\");\n",
    "        ylabel(\"Signal (arbitrary units)\")\n",
    "        hold off\n",
    "        disp([\"Peak Area = \", num2str(a)])\n",
    "    end\n",
    "end"
   ]
  },
  {
   "cell_type": "markdown",
   "metadata": {},
   "source": [
    "## Import the Data and Pre-process"
   ]
  },
  {
   "cell_type": "markdown",
   "metadata": {},
   "source": [
    "The data were saved in CSV format with `Time (min)` in column 1 and `Signal (mV)` in column 2.  The first step is to import the data to Octave from CSV:"
   ]
  },
  {
   "cell_type": "code",
   "execution_count": 84,
   "metadata": {},
   "outputs": [
    {
     "data": {
      "image/png": "[encoded data removed]",
      "text/plain": [
       "<IPython.core.display.Image object>"
      ]
     },
     "metadata": {},
     "output_type": "display_data"
    }
   ],
   "source": [
    "##### import the data\n",
    "\n",
    "chromatogram = csvread(\"data/gc-tcd_data.csv\"); ## import the data\n",
    "plot(chromatogram(:, 1), chromatogram(:, 2));   ## plot the data to see what it looks like\n",
    "xlabel(\"Time (min)\"); ylabel(\"Signal (mV)\");    ## add axis labels"
   ]
  },
  {
   "cell_type": "markdown",
   "metadata": {},
   "source": [
    "Note that there is a baseline offset in the data.  This should be removed by subtrating the mean baseline value.  I will use the mean value from 4-5 minutes as the \"baseline\" value.  This baseline is just a result of the 0 setting on the GC, so it's OK to remove it after the fact."
   ]
  },
  {
   "cell_type": "code",
   "execution_count": 85,
   "metadata": {},
   "outputs": [
    {
     "data": {
      "image/png": "[encoded data removed]",
      "text/plain": [
       "<IPython.core.display.Image object>"
      ]
     },
     "metadata": {},
     "output_type": "display_data"
    }
   ],
   "source": [
    "##### correct the baseline offset\n",
    "\n",
    "## Define the \"baseline\" as 4 minutes to end of chromatogram where there are no peaks\n",
    "baseline = mean(chromatogram(481:end, 2));\n",
    "\n",
    "## subtract the mean baseline value and store in second column of data set\n",
    "chromatogram(:, 2) = chromatogram(:, 2) .- baseline;  \n",
    "\n",
    "## replot data with baseline removed\n",
    "plot(chromatogram(:, 1), chromatogram(:, 2));   ## plot the data to see what it looks like\n",
    "xlabel(\"Time (min)\"); ylabel(\"Signal (mV)\");    ## add axis labels\n",
    "ylim([-0.1 6]);"
   ]
  },
  {
   "cell_type": "markdown",
   "metadata": {},
   "source": [
    "To get the percent composition, each peak in the chromatogram must be integrated.  This will be done with the `peakArea()` function for both peaks in the chromatogram."
   ]
  },
  {
   "cell_type": "code",
   "execution_count": 86,
   "metadata": {},
   "outputs": [
    {
     "name": "stdout",
     "output_type": "stream",
     "text": [
      "Peak Area = 0.62247\n"
     ]
    },
    {
     "data": {
      "image/png": "[encoded data removed]",
      "text/plain": [
       "<IPython.core.display.Image object>"
      ]
     },
     "metadata": {},
     "output_type": "display_data"
    }
   ],
   "source": [
    "##### calculate the peak area for first peak\n",
    "\n",
    "peak1_area = peakArea([chromatogram(:, 1), chromatogram(:, 2)], 0.87, 1.15, true);\n",
    "ylim([-0.1 6]);"
   ]
  },
  {
   "cell_type": "code",
   "execution_count": 87,
   "metadata": {},
   "outputs": [
    {
     "name": "stdout",
     "output_type": "stream",
     "text": [
      "Peak Area = 0.28093\n"
     ]
    },
    {
     "data": {
      "image/png": "[encoded data removed]",
      "text/plain": [
       "<IPython.core.display.Image object>"
      ]
     },
     "metadata": {},
     "output_type": "display_data"
    }
   ],
   "source": [
    "##### calculate the peak area for second peak\n",
    "\n",
    "peak2_area = peakArea([chromatogram(:, 1), chromatogram(:, 2)], 1.25, 2.0, true);\n",
    "ylim([-0.1 6]);"
   ]
  },
  {
   "cell_type": "code",
   "execution_count": 88,
   "metadata": {},
   "outputs": [
    {
     "name": "stdout",
     "output_type": "stream",
     "text": [
      "peak1_percent =  68.903\n",
      "peak2_percent =  31.097\n"
     ]
    }
   ],
   "source": [
    "##### Calculate Percent Composition\n",
    "\n",
    "peak1_percent = peak1_area / (peak1_area + peak2_area)*100\n",
    "peak2_percent = peak2_area / (peak1_area + peak2_area)*100"
   ]
  },
  {
   "cell_type": "markdown",
   "metadata": {},
   "source": [
    "Overall, the sample was found to be composed of **69% compound 1** (`peak1_percent`) and **31% compound 2** (`peak2_percent`)."
   ]
  },
  {
   "cell_type": "markdown",
   "metadata": {},
   "source": [
    "## Estimating S/N\n",
    "\n",
    "I will *estimate* the signal-to-noise ratio for each point on the chromatogram by taking the standard deviation of the baseline as the noise.\n",
    "\n",
    "There are many different definitions of S/N for a chromatgraphic system.  I will use the following:\n",
    "\n",
    "$$\\frac{S}{N} = \\frac{2H}{h}$$\n",
    "\n",
    "where $H$ is the peak height and $h$ is the peak-to-peak baseline noise."
   ]
  },
  {
   "cell_type": "code",
   "execution_count": 89,
   "metadata": {},
   "outputs": [
    {
     "name": "stdout",
     "output_type": "stream",
     "text": [
      "h =  0.027339\n",
      "H1 =  5.1130\n",
      "H2 =  1.6951\n"
     ]
    }
   ],
   "source": [
    "##### Determine H, the peak heights, and h, the noise\n",
    "\n",
    "## find standard deviation of baseline, from 4 minutes to end where there are no peaks\n",
    "h = 2 * (max(chromatogram(481:end, 2)) - min(chromatogram(481:end, 2)))\n",
    "% H1 = max(chromatogram(:, 2)(chromatogram(:, 1) > 0 & < 1.3)); # H for tallest peak will be the maximum value in the chromatogram.\n",
    "H1 = max(chromatogram(chromatogram(:, 1) < 1.3, 2)) # 1.3 represents dividing line between the two peaks in minutes.\n",
    "H2 = max(chromatogram(chromatogram(:, 1) > 1.3, 2)) # 1.3 represents dividing line between the two peaks in minutes."
   ]
  },
  {
   "cell_type": "code",
   "execution_count": 91,
   "metadata": {},
   "outputs": [
    {
     "name": "stdout",
     "output_type": "stream",
     "text": [
      "sn_peak1 =  187.02\n",
      "sn_peak2 =  62.002\n"
     ]
    }
   ],
   "source": [
    "##### Calculate S/N for each peak\n",
    "\n",
    "sn_peak1 = H1/h\n",
    "sn_peak2 = H2/h"
   ]
  },
  {
   "cell_type": "markdown",
   "metadata": {},
   "source": [
    "The signal-to-noise ratio for **peak 1 was 187** and for **peak 2 was 62**."
   ]
  },
  {
   "cell_type": "markdown",
   "metadata": {},
   "source": [
    "# Conclusion\n",
    "\n",
    "Insert your conclusion here.  You should state what you found and whether or not the results seem accurate.  Be sure to include the percent composition of your sample in the conclusion.  Also discuss the polarity the compounds relative to each other."
   ]
  }
 ],
 "metadata": {
  "kernelspec": {
   "display_name": "Octave",
   "language": "octave",
   "name": "octave"
  },
  "language_info": {
   "file_extension": ".m",
   "help_links": [
    {
     "text": "GNU Octave",
     "url": "https://www.gnu.org/software/octave/support.html"
    },
    {
     "text": "Octave Kernel",
     "url": "https://github.com/Calysto/octave_kernel"
    },
    {
     "text": "MetaKernel Magics",
     "url": "https://metakernel.readthedocs.io/en/latest/source/README.html"
    }
   ],
   "mimetype": "text/x-octave",
   "name": "octave",
   "version": "5.1.0"
  }
 },
 "nbformat": 4,
 "nbformat_minor": 4
}
